{
 "cells": [
  {
   "cell_type": "markdown",
   "metadata": {},
   "source": [
    "# Features Consolidation"
   ]
  },
  {
   "cell_type": "code",
   "execution_count": 5,
   "metadata": {
    "tags": []
   },
   "outputs": [],
   "source": [
    "# %%capture\n",
    "# %pip install -r ../../requirements.txt"
   ]
  },
  {
   "cell_type": "code",
   "execution_count": 6,
   "metadata": {
    "tags": []
   },
   "outputs": [],
   "source": [
    "# Import required libraries\n",
    "import sys\n",
    "import os\n",
    "from pathlib import Path\n",
    "\n",
    "\n",
    "import numpy as np\n",
    "import pandas as pd\n",
    "\n",
    "# # User defined functions\n",
    "cwd = Path.cwd()  # Current directory\n",
    "sys.path.append(str(cwd.parents[0]))  # This allows you to import from src\n",
    "from definitions import LocationConfig,INPUT_DATA\n",
    "from helper_function import read_join_csvs\n",
    "lc = LocationConfig()"
   ]
  },
  {
   "cell_type": "code",
   "execution_count": 7,
   "metadata": {
    "tags": []
   },
   "outputs": [
    {
     "name": "stdout",
     "output_type": "stream",
     "text": [
      "Error joining DataFrame: 'DataFrame' object has no attribute 'name'\n",
      "Error joining DataFrame: 'DataFrame' object has no attribute 'name'\n",
      "Error joining DataFrame: 'DataFrame' object has no attribute 'name'\n"
     ]
    }
   ],
   "source": [
    "# Replace with your actual directory path and primary column name\n",
    "join_column_name = \"Cust_id\" ## If multiple common columns the provide list of args for example [\"column1\",\"column2\"]\n",
    "\n",
    "df_con = read_join_csvs(INPUT_DATA, join_column_name)"
   ]
  },
  {
   "cell_type": "code",
   "execution_count": 8,
   "metadata": {
    "tags": []
   },
   "outputs": [],
   "source": [
    "df_con.to_csv(lc.feature_consolidation_output_table,index=False)"
   ]
  }
 ],
 "metadata": {
  "kernelspec": {
   "display_name": "Python 3 (ipykernel)",
   "language": "python",
   "name": "python3"
  },
  "language_info": {
   "codemirror_mode": {
    "name": "ipython",
    "version": 3
   },
   "file_extension": ".py",
   "mimetype": "text/x-python",
   "name": "python",
   "nbconvert_exporter": "python",
   "pygments_lexer": "ipython3",
   "version": "3.11.5"
  }
 },
 "nbformat": 4,
 "nbformat_minor": 4
}
