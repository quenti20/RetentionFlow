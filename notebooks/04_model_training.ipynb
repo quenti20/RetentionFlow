{
 "cells": [
  {
   "cell_type": "markdown",
   "metadata": {},
   "source": [
    "## Model Developmnet"
   ]
  },
  {
   "cell_type": "code",
   "execution_count": 45,
   "metadata": {
    "tags": []
   },
   "outputs": [],
   "source": [
    "# %%capture\n",
    "# %pip install -r ../../requirements.txt"
   ]
  },
  {
   "cell_type": "markdown",
   "metadata": {},
   "source": [
    "#### Import Packages"
   ]
  },
  {
   "cell_type": "code",
   "execution_count": 46,
   "metadata": {
    "tags": []
   },
   "outputs": [],
   "source": [
    "import os\n",
    "import sys\n",
    "from datetime import datetime\n",
    "from pathlib import Path\n",
    "import warnings\n",
    "\n",
    "import numpy as np\n",
    "import pandas as pd\n",
    "import joblib\n",
    "\n",
    "from sklearn.model_selection import cross_val_score, StratifiedKFold\n",
    "# from bayes_opt import BayesianOptimization\n",
    "from sklearn.preprocessing import StandardScaler\n",
    "from sklearn.pipeline import Pipeline\n",
    "from sklearn.linear_model import LogisticRegression\n",
    "from xgboost import XGBClassifier\n",
    "import lightgbm as lgb\n",
    "from sklearn import metrics\n",
    "\n",
    "# Import local libraries\n",
    "cwd = Path.cwd()  # Current directory\n",
    "sys.path.append(str(cwd.parents[0]))  # This allows you to import from src\n",
    "from feature_selection_function import hyperparameter_tuning\n",
    "from definitions import LocationConfig, PROD_MODEL\n",
    "lc = LocationConfig()\n",
    "\n",
    "from model_assessment_functions import (\n",
    "    corresponding_data,\n",
    "    preprocess_data,\n",
    "    conf_matrix,\n",
    "    prt_values,\n",
    "    model_tune_category\n",
    ")\n",
    "\n",
    "# Filter out the specific warning messages you want to hide\n",
    "warnings.filterwarnings(\"ignore\", message=\"lbfgs failed to converge\", category=UserWarning)\n",
    "warnings.filterwarnings(\"ignore\", message=\"Increase the number of iterations\", category=UserWarning)"
   ]
  },
  {
   "cell_type": "markdown",
   "metadata": {},
   "source": [
    "### Read data for model development from source"
   ]
  },
  {
   "cell_type": "code",
   "execution_count": 47,
   "metadata": {},
   "outputs": [
    {
     "name": "stdout",
     "output_type": "stream",
     "text": [
      "CPU times: total: 0 ns\n",
      "Wall time: 14 ms\n"
     ]
    }
   ],
   "source": [
    "%%time\n",
    "# Read train/test data for model training\n",
    "df_transformed = pd.read_csv(lc.feature_transformation_output_table)"
   ]
  },
  {
   "cell_type": "code",
   "execution_count": 48,
   "metadata": {},
   "outputs": [],
   "source": [
    " # Read the feature list from the table\n",
    "df_features = pd.read_csv(lc.selected_features_table_name)\n",
    "features_list = list(df_features['Feature'])"
   ]
  },
  {
   "cell_type": "markdown",
   "metadata": {},
   "source": [
    "### Preprocess the data"
   ]
  },
  {
   "cell_type": "code",
   "execution_count": 49,
   "metadata": {
    "tags": []
   },
   "outputs": [
    {
     "name": "stdout",
     "output_type": "stream",
     "text": [
      "Number of features :  15\n"
     ]
    }
   ],
   "source": [
    "# Select the target column\n",
    "target_column = 'price_range'\n",
    "\n",
    "# Gret train, test and OOT period dataframe\n",
    "X_train, X_test, y_train, y_test, feature_list = preprocess_data(df_transformed, features_list, target_column)"
   ]
  },
  {
   "cell_type": "code",
   "execution_count": 50,
   "metadata": {
    "tags": []
   },
   "outputs": [],
   "source": [
    "test = X_test\n",
    "test[target_column] = y_test\n",
    "test.to_csv(\"test.csv\", index=False)"
   ]
  },
  {
   "cell_type": "code",
   "execution_count": 51,
   "metadata": {
    "tags": []
   },
   "outputs": [],
   "source": [
    "train = X_train\n",
    "train[target_column] = y_train\n",
    "train.to_csv(\"train.csv\", index=False)"
   ]
  },
  {
   "cell_type": "code",
   "execution_count": 52,
   "metadata": {},
   "outputs": [],
   "source": [
    "# %%time\n",
    "# selected_model = \"XGBClassifier\"\n",
    "\n",
    "# # Using sample data to find the best hyperparameters for model training\n",
    "# n_samples = min(1000, len(X_train))\n",
    "# X_train_sampled = X_train.sample(n=1000, random_state=1) \n",
    "# y_train_sampled = y_train[X_train_sampled.index]\n",
    "# best_params = hyperparameter_tuning(selected_model, X_train_sampled, y_train_sampled)"
   ]
  },
  {
   "cell_type": "markdown",
   "metadata": {},
   "source": [
    "### Model Bulid"
   ]
  },
  {
   "cell_type": "code",
   "execution_count": 36,
   "metadata": {},
   "outputs": [],
   "source": [
    "# Best parameters from ther Hyperparameter tuning\n",
    "# best_params = 10"
   ]
  },
  {
   "cell_type": "code",
   "execution_count": 37,
   "metadata": {},
   "outputs": [
    {
     "name": "stdout",
     "output_type": "stream",
     "text": [
      "[LightGBM] [Info] Number of positive: 697, number of negative: 703\n",
      "[LightGBM] [Info] Auto-choosing col-wise multi-threading, the overhead of testing was 0.000140 seconds.\n",
      "You can set `force_col_wise=true` to remove the overhead.\n",
      "[LightGBM] [Info] Total Bins 219\n",
      "[LightGBM] [Info] Number of data points in the train set: 1400, number of used features: 15\n",
      "[LightGBM] [Info] [binary:BoostFromScore]: pavg=0.497857 -> initscore=-0.008571\n",
      "[LightGBM] [Info] Start training from score -0.008571\n",
      "CPU times: total: 156 ms\n",
      "Wall time: 57.5 ms\n"
     ]
    },
    {
     "data": {
      "text/plain": [
       "['C://Users//LivinAlbert//Documents//Explainboard//models//light_gbm.joblib']"
      ]
     },
     "execution_count": 37,
     "metadata": {},
     "output_type": "execute_result"
    }
   ],
   "source": [
    "%%time\n",
    "# Create a machine learning pipeline\n",
    "pipeline = lgb.LGBMClassifier(random_state=42)\n",
    "# Fit the pipeline to the training data\n",
    "pipeline.fit(X_train, y_train) \n",
    "\n",
    "# Save model to MODELS directory\n",
    "PROD_MODEL = \"C://Users//LivinAlbert//Documents//Explainboard//models//light_gbm.joblib\"\n",
    "joblib.dump(pipeline,PROD_MODEL)\n"
   ]
  },
  {
   "cell_type": "code",
   "execution_count": 38,
   "metadata": {
    "tags": []
   },
   "outputs": [
    {
     "name": "stdout",
     "output_type": "stream",
     "text": [
      "CPU times: total: 93.8 ms\n",
      "Wall time: 27 ms\n"
     ]
    },
    {
     "data": {
      "text/plain": [
       "['C://Users//LivinAlbert//Documents//Explainboard//models//logistic.joblib']"
      ]
     },
     "execution_count": 38,
     "metadata": {},
     "output_type": "execute_result"
    }
   ],
   "source": [
    "%%time\n",
    "# Create a machine learning pipeline\n",
    "pipeline = LogisticRegression(random_state=42)\n",
    "# Fit the pipeline to the training data\n",
    "pipeline.fit(X_train, y_train) \n",
    "\n",
    "# Save model to MODELS directory\n",
    "PROD_MODEL = \"C://Users//LivinAlbert//Documents//Explainboard//models//logistic.joblib\"\n",
    "joblib.dump(pipeline,PROD_MODEL)"
   ]
  },
  {
   "cell_type": "code",
   "execution_count": 39,
   "metadata": {
    "tags": []
   },
   "outputs": [
    {
     "name": "stdout",
     "output_type": "stream",
     "text": [
      "CPU times: total: 422 ms\n",
      "Wall time: 81 ms\n"
     ]
    },
    {
     "data": {
      "text/plain": [
       "['C://Users//LivinAlbert//Documents//Explainboard//models//xgboost.joblib']"
      ]
     },
     "execution_count": 39,
     "metadata": {},
     "output_type": "execute_result"
    }
   ],
   "source": [
    "%%time\n",
    "# Create a machine learning pipeline\n",
    "pipeline = XGBClassifier(random_state=42)\n",
    "# Fit the pipeline to the training data\n",
    "pipeline.fit(X_train, y_train) \n",
    "\n",
    "# Save model to MODELS directory\n",
    "PROD_MODEL = \"C://Users//LivinAlbert//Documents//Explainboard//models//xgboost.joblib\"\n",
    "joblib.dump(pipeline,PROD_MODEL)"
   ]
  },
  {
   "cell_type": "code",
   "execution_count": 40,
   "metadata": {},
   "outputs": [],
   "source": [
    "# Load the Saved model for prediction\n",
    "# pipeline = joblib.load(PROD_MODEL)"
   ]
  },
  {
   "cell_type": "code",
   "execution_count": 43,
   "metadata": {},
   "outputs": [],
   "source": [
    "# Predicted values for train, test and oot data\n",
    "y_test_pred = pipeline.predict(X_test)\n",
    "y_train_pred = pipeline.predict(X_train)\n",
    "\n",
    "# Predicted probabilities for train, test and oot data\n",
    "y_scores_test = pipeline.predict_proba(X_test).round(3)\n",
    "y_scores_train = pipeline.predict_proba(X_train).round(3)\n"
   ]
  },
  {
   "cell_type": "code",
   "execution_count": 44,
   "metadata": {
    "tags": []
   },
   "outputs": [
    {
     "name": "stdout",
     "output_type": "stream",
     "text": [
      "Train accuracy: 1.0\n",
      "Test accuracy: 0.505\n"
     ]
    }
   ],
   "source": [
    "# Model Performance based on the accuracy scores\n",
    "# Train accuracy Calculation\n",
    "accuracy = metrics.accuracy_score(y_train,y_train_pred)\n",
    "print(\"Train accuracy:\", accuracy)\n",
    "\n",
    "# Test accuracy calculation\n",
    "accuracy = metrics.accuracy_score(y_test,y_test_pred)\n",
    "print(\"Test accuracy:\", accuracy)\n"
   ]
  },
  {
   "cell_type": "markdown",
   "metadata": {},
   "source": [
    "#### Train Data Model Tuning"
   ]
  },
  {
   "cell_type": "code",
   "execution_count": 12,
   "metadata": {},
   "outputs": [
    {
     "name": "stdout",
     "output_type": "stream",
     "text": [
      "CPU times: total: 31.2 ms\n",
      "Wall time: 15 ms\n"
     ]
    }
   ],
   "source": [
    "%%time\n",
    "\"\"\"\n",
    "Get train data prt values\n",
    "\"\"\"\n",
    "df_prt_values_train = prt_values(y_train, y_scores_train)"
   ]
  },
  {
   "cell_type": "code",
   "execution_count": 18,
   "metadata": {},
   "outputs": [
    {
     "data": {
      "text/html": [
       "<div>\n",
       "<style scoped>\n",
       "    .dataframe tbody tr th:only-of-type {\n",
       "        vertical-align: middle;\n",
       "    }\n",
       "\n",
       "    .dataframe tbody tr th {\n",
       "        vertical-align: top;\n",
       "    }\n",
       "\n",
       "    .dataframe thead th {\n",
       "        text-align: right;\n",
       "    }\n",
       "</style>\n",
       "<table border=\"1\" class=\"dataframe\">\n",
       "  <thead>\n",
       "    <tr style=\"text-align: right;\">\n",
       "      <th></th>\n",
       "      <th>precision</th>\n",
       "      <th>recall</th>\n",
       "      <th>thresholds</th>\n",
       "      <th>roc_auc</th>\n",
       "    </tr>\n",
       "  </thead>\n",
       "  <tbody>\n",
       "    <tr>\n",
       "      <th>0</th>\n",
       "      <td>1.0</td>\n",
       "      <td>0.720339</td>\n",
       "      <td>0.73</td>\n",
       "      <td>1.0</td>\n",
       "    </tr>\n",
       "  </tbody>\n",
       "</table>\n",
       "</div>"
      ],
      "text/plain": [
       "   precision    recall  thresholds  roc_auc\n",
       "0        1.0  0.720339        0.73      1.0"
      ]
     },
     "execution_count": 18,
     "metadata": {},
     "output_type": "execute_result"
    }
   ],
   "source": [
    "# Make relaiable to test the multiple thresholds for simpler method\n",
    "train_data_accuracy = model_tune_category(df_prt_values_train,  threshold = 0.72, data_set_type = 'train')\n",
    "# Get train threshold for each class\n",
    "train_threshold = train_data_accuracy['thresholds'][0].round(4)\n",
    "\n",
    "train_data_accuracy"
   ]
  },
  {
   "cell_type": "markdown",
   "metadata": {},
   "source": [
    "#### Test Data Model Tuning"
   ]
  },
  {
   "cell_type": "code",
   "execution_count": 19,
   "metadata": {},
   "outputs": [
    {
     "name": "stdout",
     "output_type": "stream",
     "text": [
      "CPU times: total: 0 ns\n",
      "Wall time: 7.56 ms\n"
     ]
    }
   ],
   "source": [
    "%%time\n",
    "\"\"\"\n",
    "Get test data prt values\n",
    "\"\"\"\n",
    "df_prt_values_test= prt_values(y_test, y_scores_test)"
   ]
  },
  {
   "cell_type": "code",
   "execution_count": 21,
   "metadata": {},
   "outputs": [
    {
     "data": {
      "text/html": [
       "<div>\n",
       "<style scoped>\n",
       "    .dataframe tbody tr th:only-of-type {\n",
       "        vertical-align: middle;\n",
       "    }\n",
       "\n",
       "    .dataframe tbody tr th {\n",
       "        vertical-align: top;\n",
       "    }\n",
       "\n",
       "    .dataframe thead th {\n",
       "        text-align: right;\n",
       "    }\n",
       "</style>\n",
       "<table border=\"1\" class=\"dataframe\">\n",
       "  <thead>\n",
       "    <tr style=\"text-align: right;\">\n",
       "      <th></th>\n",
       "      <th>precision</th>\n",
       "      <th>recall</th>\n",
       "      <th>thresholds</th>\n",
       "      <th>roc_auc</th>\n",
       "    </tr>\n",
       "  </thead>\n",
       "  <tbody>\n",
       "    <tr>\n",
       "      <th>0</th>\n",
       "      <td>0.428571</td>\n",
       "      <td>0.041096</td>\n",
       "      <td>0.704</td>\n",
       "      <td>0.517885</td>\n",
       "    </tr>\n",
       "  </tbody>\n",
       "</table>\n",
       "</div>"
      ],
      "text/plain": [
       "   precision    recall  thresholds   roc_auc\n",
       "0   0.428571  0.041096       0.704  0.517885"
      ]
     },
     "execution_count": 21,
     "metadata": {},
     "output_type": "execute_result"
    }
   ],
   "source": [
    "# get the threshold value from train accuracy\n",
    "test_data_accuracy = model_tune_category(df_prt_values_test,\n",
    "                                          threshold = train_threshold, data_set_type = 'test'\n",
    "                                         )\n",
    "test_data_accuracy"
   ]
  },
  {
   "cell_type": "markdown",
   "metadata": {},
   "source": [
    "#### Model Accuracy Tracking"
   ]
  },
  {
   "cell_type": "code",
   "execution_count": null,
   "metadata": {},
   "outputs": [],
   "source": [
    "# join both test/train performance metrics\n",
    "acc_track = pd.concat([train_data_accuracy,test_data_accuracy], axis=1)\n",
    "acc_track"
   ]
  },
  {
   "cell_type": "markdown",
   "metadata": {},
   "source": [
    "### Feature Importance"
   ]
  },
  {
   "cell_type": "code",
   "execution_count": null,
   "metadata": {},
   "outputs": [],
   "source": [
    "feature_importance = feature_importance(pipeline, selected_model)\n",
    "feature_importance"
   ]
  }
 ],
 "metadata": {
  "kernelspec": {
   "display_name": "Python 3 (ipykernel)",
   "language": "python",
   "name": "python3"
  },
  "language_info": {
   "codemirror_mode": {
    "name": "ipython",
    "version": 3
   },
   "file_extension": ".py",
   "mimetype": "text/x-python",
   "name": "python",
   "nbconvert_exporter": "python",
   "pygments_lexer": "ipython3",
   "version": "3.11.5"
  }
 },
 "nbformat": 4,
 "nbformat_minor": 4
}
